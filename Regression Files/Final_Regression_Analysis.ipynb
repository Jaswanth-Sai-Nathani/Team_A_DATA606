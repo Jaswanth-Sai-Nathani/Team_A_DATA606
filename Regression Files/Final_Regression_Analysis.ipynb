{
 "cells": [
  {
   "cell_type": "code",
   "execution_count": 1,
   "id": "8762dbf6",
   "metadata": {},
   "outputs": [],
   "source": [
    "import pandas as pd\n",
    "import numpy as np\n",
    "import matplotlib.pyplot as plt\n",
    "%matplotlib inline\n",
    "import seaborn as sns\n",
    "import re\n",
    "import warnings\n",
    "from collections import Counter\n",
    "warnings.filterwarnings(\"ignore\")\n",
    "from sklearn.model_selection import train_test_split\n",
    "from sklearn.preprocessing import LabelEncoder\n",
    "from sklearn.linear_model import LinearRegression\n",
    "from sklearn.ensemble import RandomForestRegressor\n",
    "from sklearn.metrics import mean_squared_error\n",
    "from sklearn.pipeline import Pipeline\n",
    "from sklearn.compose import ColumnTransformer\n",
    "from sklearn.impute import SimpleImputer\n",
    "from sklearn.preprocessing import StandardScaler, OneHotEncoder\n",
    "from sklearn.metrics import mean_squared_error, r2_score\n",
    "from sklearn.model_selection import GridSearchCV\n",
    "from sklearn import preprocessing\n",
    "from sklearn.model_selection import RandomizedSearchCV\n",
    "from pprint import pprint\n",
    "from sklearn.ensemble import GradientBoostingRegressor\n",
    "import math"
   ]
  },
  {
   "cell_type": "code",
   "execution_count": 2,
   "id": "7e863ee4",
   "metadata": {},
   "outputs": [
    {
     "data": {
      "text/html": [
       "<div>\n",
       "<style scoped>\n",
       "    .dataframe tbody tr th:only-of-type {\n",
       "        vertical-align: middle;\n",
       "    }\n",
       "\n",
       "    .dataframe tbody tr th {\n",
       "        vertical-align: top;\n",
       "    }\n",
       "\n",
       "    .dataframe thead th {\n",
       "        text-align: right;\n",
       "    }\n",
       "</style>\n",
       "<table border=\"1\" class=\"dataframe\">\n",
       "  <thead>\n",
       "    <tr style=\"text-align: right;\">\n",
       "      <th></th>\n",
       "      <th>VIN</th>\n",
       "      <th>brand</th>\n",
       "      <th>model</th>\n",
       "      <th>trim</th>\n",
       "      <th>manufacture_year</th>\n",
       "      <th>mileage</th>\n",
       "      <th>transmission</th>\n",
       "      <th>drive_type</th>\n",
       "      <th>fuel_type</th>\n",
       "      <th>exterior_color</th>\n",
       "      <th>interior_color</th>\n",
       "      <th>accidents</th>\n",
       "      <th>owners</th>\n",
       "      <th>car_usage_type</th>\n",
       "      <th>price</th>\n",
       "      <th>car_age</th>\n",
       "      <th>state</th>\n",
       "      <th>MPG</th>\n",
       "    </tr>\n",
       "  </thead>\n",
       "  <tbody>\n",
       "    <tr>\n",
       "      <th>0</th>\n",
       "      <td>5FPYK3F6XHB002417</td>\n",
       "      <td>Honda</td>\n",
       "      <td>Ridgeline</td>\n",
       "      <td>RTL-T AWD</td>\n",
       "      <td>2017</td>\n",
       "      <td>101576</td>\n",
       "      <td>Automatic</td>\n",
       "      <td>AWD</td>\n",
       "      <td>Gas</td>\n",
       "      <td>Silver</td>\n",
       "      <td>Gray</td>\n",
       "      <td>0</td>\n",
       "      <td>3</td>\n",
       "      <td>Personaluse</td>\n",
       "      <td>25499</td>\n",
       "      <td>5</td>\n",
       "      <td>IN</td>\n",
       "      <td>21.5</td>\n",
       "    </tr>\n",
       "    <tr>\n",
       "      <th>1</th>\n",
       "      <td>JTDKN3DP4C3008964</td>\n",
       "      <td>Toyota</td>\n",
       "      <td>Prius</td>\n",
       "      <td>Plug-in Hybrid Advanced</td>\n",
       "      <td>2012</td>\n",
       "      <td>65082</td>\n",
       "      <td>Automatic</td>\n",
       "      <td>FWD</td>\n",
       "      <td>Hybrid</td>\n",
       "      <td>Gray</td>\n",
       "      <td>Gray</td>\n",
       "      <td>0</td>\n",
       "      <td>1</td>\n",
       "      <td>Personaluse</td>\n",
       "      <td>20990</td>\n",
       "      <td>10</td>\n",
       "      <td>CA</td>\n",
       "      <td>50.0</td>\n",
       "    </tr>\n",
       "    <tr>\n",
       "      <th>2</th>\n",
       "      <td>SADCJ2FX7JA258056</td>\n",
       "      <td>Jaguar</td>\n",
       "      <td>F-PACE</td>\n",
       "      <td>Premium 25t</td>\n",
       "      <td>2018</td>\n",
       "      <td>29717</td>\n",
       "      <td>Automatic</td>\n",
       "      <td>AWD</td>\n",
       "      <td>Gas</td>\n",
       "      <td>White</td>\n",
       "      <td>Black</td>\n",
       "      <td>0</td>\n",
       "      <td>1</td>\n",
       "      <td>Personaluse</td>\n",
       "      <td>38625</td>\n",
       "      <td>4</td>\n",
       "      <td>NC</td>\n",
       "      <td>24.5</td>\n",
       "    </tr>\n",
       "    <tr>\n",
       "      <th>3</th>\n",
       "      <td>3FA6P0HR3DR138619</td>\n",
       "      <td>Ford</td>\n",
       "      <td>Fusion</td>\n",
       "      <td>SE FWD</td>\n",
       "      <td>2013</td>\n",
       "      <td>154044</td>\n",
       "      <td>Automatic</td>\n",
       "      <td>FWD</td>\n",
       "      <td>Gas</td>\n",
       "      <td>White</td>\n",
       "      <td>Black</td>\n",
       "      <td>0</td>\n",
       "      <td>2</td>\n",
       "      <td>Personaluse</td>\n",
       "      <td>7399</td>\n",
       "      <td>9</td>\n",
       "      <td>CA</td>\n",
       "      <td>28.0</td>\n",
       "    </tr>\n",
       "    <tr>\n",
       "      <th>4</th>\n",
       "      <td>JTJHT00WX64011715</td>\n",
       "      <td>Lexus</td>\n",
       "      <td>LX</td>\n",
       "      <td>LX 470</td>\n",
       "      <td>2006</td>\n",
       "      <td>224550</td>\n",
       "      <td>Automatic</td>\n",
       "      <td>4WD</td>\n",
       "      <td>Gas</td>\n",
       "      <td>Black</td>\n",
       "      <td>Red</td>\n",
       "      <td>1</td>\n",
       "      <td>1</td>\n",
       "      <td>Personaluse</td>\n",
       "      <td>14500</td>\n",
       "      <td>16</td>\n",
       "      <td>ID</td>\n",
       "      <td>15.0</td>\n",
       "    </tr>\n",
       "    <tr>\n",
       "      <th>5</th>\n",
       "      <td>5N1AT2MT1KC770345</td>\n",
       "      <td>Nissan</td>\n",
       "      <td>Rogue</td>\n",
       "      <td>S FWD</td>\n",
       "      <td>2019</td>\n",
       "      <td>151343</td>\n",
       "      <td>Automatic</td>\n",
       "      <td>FWD</td>\n",
       "      <td>Gas</td>\n",
       "      <td>Gray</td>\n",
       "      <td>Black</td>\n",
       "      <td>1</td>\n",
       "      <td>1</td>\n",
       "      <td>Personaluse</td>\n",
       "      <td>13881</td>\n",
       "      <td>3</td>\n",
       "      <td>ID</td>\n",
       "      <td>29.5</td>\n",
       "    </tr>\n",
       "    <tr>\n",
       "      <th>6</th>\n",
       "      <td>WDDHF8JB5EA812014</td>\n",
       "      <td>Mercedes-Benz</td>\n",
       "      <td>E-Class</td>\n",
       "      <td>E 350 4MATIC Luxury Sedan</td>\n",
       "      <td>2014</td>\n",
       "      <td>104220</td>\n",
       "      <td>Automatic</td>\n",
       "      <td>AWD</td>\n",
       "      <td>Gas</td>\n",
       "      <td>White</td>\n",
       "      <td>Black</td>\n",
       "      <td>1</td>\n",
       "      <td>3</td>\n",
       "      <td>Personaluse</td>\n",
       "      <td>17995</td>\n",
       "      <td>8</td>\n",
       "      <td>TX</td>\n",
       "      <td>25.0</td>\n",
       "    </tr>\n",
       "    <tr>\n",
       "      <th>7</th>\n",
       "      <td>1FTMF1CM9DKD84939</td>\n",
       "      <td>Ford</td>\n",
       "      <td>F-150</td>\n",
       "      <td>STX Reg Cab 6.5' Box 2WD</td>\n",
       "      <td>2013</td>\n",
       "      <td>165239</td>\n",
       "      <td>Automatic</td>\n",
       "      <td>RWD</td>\n",
       "      <td>Gas</td>\n",
       "      <td>White</td>\n",
       "      <td>Black</td>\n",
       "      <td>2</td>\n",
       "      <td>3</td>\n",
       "      <td>Fleetuse</td>\n",
       "      <td>9995</td>\n",
       "      <td>9</td>\n",
       "      <td>GA</td>\n",
       "      <td>20.0</td>\n",
       "    </tr>\n",
       "    <tr>\n",
       "      <th>8</th>\n",
       "      <td>2C4RDGCG3KR544465</td>\n",
       "      <td>Dodge</td>\n",
       "      <td>Grand Caravan</td>\n",
       "      <td>SXT</td>\n",
       "      <td>2019</td>\n",
       "      <td>18467</td>\n",
       "      <td>Automatic</td>\n",
       "      <td>FWD</td>\n",
       "      <td>Gas</td>\n",
       "      <td>White</td>\n",
       "      <td>Black</td>\n",
       "      <td>1</td>\n",
       "      <td>4</td>\n",
       "      <td>Fleetuse</td>\n",
       "      <td>26000</td>\n",
       "      <td>3</td>\n",
       "      <td>TX</td>\n",
       "      <td>21.0</td>\n",
       "    </tr>\n",
       "    <tr>\n",
       "      <th>9</th>\n",
       "      <td>KNMAT2MV7KP553686</td>\n",
       "      <td>Nissan</td>\n",
       "      <td>Rogue</td>\n",
       "      <td>SV AWD</td>\n",
       "      <td>2019</td>\n",
       "      <td>65126</td>\n",
       "      <td>Automatic</td>\n",
       "      <td>AWD</td>\n",
       "      <td>Gas</td>\n",
       "      <td>Black</td>\n",
       "      <td>Black</td>\n",
       "      <td>0</td>\n",
       "      <td>1</td>\n",
       "      <td>Fleetuse</td>\n",
       "      <td>22997</td>\n",
       "      <td>3</td>\n",
       "      <td>TX</td>\n",
       "      <td>28.5</td>\n",
       "    </tr>\n",
       "  </tbody>\n",
       "</table>\n",
       "</div>"
      ],
      "text/plain": [
       "                  VIN          brand          model  \\\n",
       "0   5FPYK3F6XHB002417          Honda      Ridgeline   \n",
       "1   JTDKN3DP4C3008964         Toyota          Prius   \n",
       "2   SADCJ2FX7JA258056         Jaguar         F-PACE   \n",
       "3   3FA6P0HR3DR138619           Ford         Fusion   \n",
       "4   JTJHT00WX64011715          Lexus             LX   \n",
       "5   5N1AT2MT1KC770345         Nissan          Rogue   \n",
       "6   WDDHF8JB5EA812014  Mercedes-Benz        E-Class   \n",
       "7   1FTMF1CM9DKD84939           Ford          F-150   \n",
       "8   2C4RDGCG3KR544465          Dodge  Grand Caravan   \n",
       "9   KNMAT2MV7KP553686         Nissan          Rogue   \n",
       "\n",
       "                        trim  manufacture_year  mileage transmission  \\\n",
       "0                  RTL-T AWD              2017   101576    Automatic   \n",
       "1    Plug-in Hybrid Advanced              2012    65082    Automatic   \n",
       "2                Premium 25t              2018    29717    Automatic   \n",
       "3                     SE FWD              2013   154044    Automatic   \n",
       "4                     LX 470              2006   224550    Automatic   \n",
       "5                      S FWD              2019   151343    Automatic   \n",
       "6  E 350 4MATIC Luxury Sedan              2014   104220    Automatic   \n",
       "7   STX Reg Cab 6.5' Box 2WD              2013   165239    Automatic   \n",
       "8                        SXT              2019    18467    Automatic   \n",
       "9                     SV AWD              2019    65126    Automatic   \n",
       "\n",
       "  drive_type fuel_type exterior_color interior_color  accidents  owners  \\\n",
       "0        AWD       Gas         Silver           Gray          0       3   \n",
       "1        FWD    Hybrid           Gray           Gray          0       1   \n",
       "2        AWD       Gas          White          Black          0       1   \n",
       "3        FWD       Gas          White          Black          0       2   \n",
       "4        4WD       Gas          Black            Red          1       1   \n",
       "5        FWD       Gas           Gray          Black          1       1   \n",
       "6        AWD       Gas          White          Black          1       3   \n",
       "7        RWD       Gas          White          Black          2       3   \n",
       "8        FWD       Gas          White          Black          1       4   \n",
       "9        AWD       Gas          Black          Black          0       1   \n",
       "\n",
       "  car_usage_type  price  car_age state   MPG  \n",
       "0    Personaluse  25499        5    IN  21.5  \n",
       "1    Personaluse  20990       10    CA  50.0  \n",
       "2    Personaluse  38625        4    NC  24.5  \n",
       "3    Personaluse   7399        9    CA  28.0  \n",
       "4    Personaluse  14500       16    ID  15.0  \n",
       "5    Personaluse  13881        3    ID  29.5  \n",
       "6    Personaluse  17995        8    TX  25.0  \n",
       "7       Fleetuse   9995        9    GA  20.0  \n",
       "8       Fleetuse  26000        3    TX  21.0  \n",
       "9       Fleetuse  22997        3    TX  28.5  "
      ]
     },
     "execution_count": 2,
     "metadata": {},
     "output_type": "execute_result"
    }
   ],
   "source": [
    "df=pd.read_csv('eda_dataset.csv')\n",
    "df.head(10)"
   ]
  },
  {
   "cell_type": "code",
   "execution_count": 3,
   "id": "e44cb1c1",
   "metadata": {},
   "outputs": [],
   "source": [
    "pd.set_option('display.max_columns', None)\n",
    "pd.set_option('display.max_rows', None)"
   ]
  },
  {
   "cell_type": "code",
   "execution_count": 4,
   "id": "ec57c4f8",
   "metadata": {},
   "outputs": [],
   "source": [
    "df=df.drop(['VIN'],axis=1)"
   ]
  },
  {
   "cell_type": "markdown",
   "id": "57abc9b1",
   "metadata": {},
   "source": [
    "### Finding feature importance to determine necessary features"
   ]
  },
  {
   "cell_type": "code",
   "execution_count": 5,
   "id": "de98a2b2",
   "metadata": {},
   "outputs": [],
   "source": [
    "## Deleting manufacture year because we already have a similar column called car age\n",
    "df=df.drop(['trim','manufacture_year'],axis=1)"
   ]
  },
  {
   "cell_type": "code",
   "execution_count": 6,
   "id": "bef546c4",
   "metadata": {},
   "outputs": [
    {
     "data": {
      "text/plain": [
       "(array([2.439e+03, 3.385e+03, 2.187e+03, 1.202e+03, 4.470e+02, 1.490e+02,\n",
       "        5.400e+01, 2.400e+01, 8.000e+00, 3.000e+00]),\n",
       " array([5.000000e+00, 2.662740e+04, 5.324980e+04, 7.987220e+04,\n",
       "        1.064946e+05, 1.331170e+05, 1.597394e+05, 1.863618e+05,\n",
       "        2.129842e+05, 2.396066e+05, 2.662290e+05]),\n",
       " <BarContainer object of 10 artists>)"
      ]
     },
     "execution_count": 6,
     "metadata": {},
     "output_type": "execute_result"
    },
    {
     "data": {
      "image/png": "[encoded data removed]",
      "text/plain": [
       "<Figure size 432x288 with 1 Axes>"
      ]
     },
     "metadata": {
      "needs_background": "light"
     },
     "output_type": "display_data"
    }
   ],
   "source": [
    "# Because of the skewness of mileage\n",
    "plt.hist((df[\"mileage\"]))"
   ]
  },
  {
   "cell_type": "code",
   "execution_count": 7,
   "id": "e0c371f9",
   "metadata": {},
   "outputs": [
    {
     "data": {
      "text/plain": [
       "(array([2.000e+00, 6.000e+00, 1.000e+01, 9.000e+00, 3.800e+01, 1.100e+02,\n",
       "        4.900e+02, 2.219e+03, 5.668e+03, 1.346e+03]),\n",
       " array([ 1.60943791,  2.69770533,  3.78597275,  4.87424017,  5.9625076 ,\n",
       "         7.05077502,  8.13904244,  9.22730986, 10.31557728, 11.4038447 ,\n",
       "        12.49211212]),\n",
       " <BarContainer object of 10 artists>)"
      ]
     },
     "execution_count": 7,
     "metadata": {},
     "output_type": "execute_result"
    },
    {
     "data": {
      "image/png": "[encoded data removed]",
      "text/plain": [
       "<Figure size 432x288 with 1 Axes>"
      ]
     },
     "metadata": {
      "needs_background": "light"
     },
     "output_type": "display_data"
    }
   ],
   "source": [
    "plt.hist(np.log(df['mileage']))"
   ]
  },
  {
   "cell_type": "markdown",
   "id": "eecac577",
   "metadata": {},
   "source": [
    "### Does not normal distribution in any way so we continue with mileage column only"
   ]
  },
  {
   "cell_type": "code",
   "execution_count": 8,
   "id": "3a131ae5",
   "metadata": {},
   "outputs": [
    {
     "name": "stdout",
     "output_type": "stream",
     "text": [
      "<class 'pandas.core.frame.DataFrame'>\n",
      "RangeIndex: 9898 entries, 0 to 9897\n",
      "Data columns (total 15 columns):\n",
      " #   Column          Non-Null Count  Dtype  \n",
      "---  ------          --------------  -----  \n",
      " 0   brand           9898 non-null   object \n",
      " 1   model           9898 non-null   object \n",
      " 2   mileage         9898 non-null   int64  \n",
      " 3   transmission    9898 non-null   object \n",
      " 4   drive_type      9898 non-null   object \n",
      " 5   fuel_type       9898 non-null   object \n",
      " 6   exterior_color  9898 non-null   object \n",
      " 7   interior_color  9898 non-null   object \n",
      " 8   accidents       9898 non-null   int64  \n",
      " 9   owners          9898 non-null   int64  \n",
      " 10  car_usage_type  9898 non-null   object \n",
      " 11  price           9898 non-null   int64  \n",
      " 12  car_age         9898 non-null   int64  \n",
      " 13  state           9898 non-null   object \n",
      " 14  MPG             9898 non-null   float64\n",
      "dtypes: float64(1), int64(5), object(9)\n",
      "memory usage: 1.1+ MB\n"
     ]
    }
   ],
   "source": [
    "df.info()"
   ]
  },
  {
   "cell_type": "markdown",
   "id": "3a012598",
   "metadata": {},
   "source": [
    "### Feature Selection"
   ]
  },
  {
   "cell_type": "code",
   "execution_count": 9,
   "id": "cf44f2ba",
   "metadata": {},
   "outputs": [],
   "source": [
    "from sklearn.feature_selection import SelectKBest, mutual_info_regression"
   ]
  },
  {
   "cell_type": "code",
   "execution_count": 10,
   "id": "6038c7a1",
   "metadata": {},
   "outputs": [],
   "source": [
    "from sklearn.preprocessing import LabelEncoder\n",
    "temp_data = df.copy()\n",
    "for col in temp_data.columns:\n",
    "    if temp_data[col].dtypes == 'object':\n",
    "        encoder = LabelEncoder()\n",
    "        temp_data[col] = encoder.fit_transform(temp_data[col])"
   ]
  },
  {
   "cell_type": "code",
   "execution_count": 11,
   "id": "6e78b7ce",
   "metadata": {},
   "outputs": [],
   "source": [
    "# X_temp = temp_data.drop(['price','mileage'], axis=1)\n",
    "X_temp = temp_data.drop(['price'], axis=1)\n",
    "y_temp = np.log(temp_data['price'].values)"
   ]
  },
  {
   "cell_type": "code",
   "execution_count": 12,
   "id": "3842e3d0",
   "metadata": {},
   "outputs": [
    {
     "data": {
      "text/plain": [
       "Index(['brand', 'model', 'mileage', 'drive_type', 'fuel_type',\n",
       "       'interior_color', 'owners', 'car_usage_type', 'car_age', 'MPG'],\n",
       "      dtype='object')"
      ]
     },
     "execution_count": 12,
     "metadata": {},
     "output_type": "execute_result"
    }
   ],
   "source": [
    "# selecting top 8 features\n",
    "selector = SelectKBest(mutual_info_regression, k=10)\n",
    "selector.fit(X_temp,y_temp)\n",
    "X_temp.columns[selector.get_support()]"
   ]
  },
  {
   "cell_type": "code",
   "execution_count": 13,
   "id": "c7945866",
   "metadata": {},
   "outputs": [],
   "source": [
    "df=df.drop(['car_usage_type','interior_color','exterior_color','state','transmission','MPG'],axis=1)"
   ]
  },
  {
   "cell_type": "code",
   "execution_count": 14,
   "id": "618ca276",
   "metadata": {},
   "outputs": [
    {
     "name": "stdout",
     "output_type": "stream",
     "text": [
      "<class 'pandas.core.frame.DataFrame'>\n",
      "RangeIndex: 9898 entries, 0 to 9897\n",
      "Data columns (total 9 columns):\n",
      " #   Column      Non-Null Count  Dtype \n",
      "---  ------      --------------  ----- \n",
      " 0   brand       9898 non-null   object\n",
      " 1   model       9898 non-null   object\n",
      " 2   mileage     9898 non-null   int64 \n",
      " 3   drive_type  9898 non-null   object\n",
      " 4   fuel_type   9898 non-null   object\n",
      " 5   accidents   9898 non-null   int64 \n",
      " 6   owners      9898 non-null   int64 \n",
      " 7   price       9898 non-null   int64 \n",
      " 8   car_age     9898 non-null   int64 \n",
      "dtypes: int64(5), object(4)\n",
      "memory usage: 696.1+ KB\n"
     ]
    }
   ],
   "source": [
    "df.info()"
   ]
  },
  {
   "cell_type": "markdown",
   "id": "7c338d37",
   "metadata": {},
   "source": [
    "## Predictive Analysis"
   ]
  },
  {
   "cell_type": "code",
   "execution_count": 15,
   "id": "cb445577",
   "metadata": {},
   "outputs": [],
   "source": [
    "num_feat = df.drop(['price'], axis=1).select_dtypes(include=np.number).columns\n",
    "cat_feat = df.drop('price', axis=1).select_dtypes(include=['object']).columns"
   ]
  },
  {
   "cell_type": "code",
   "execution_count": 16,
   "id": "4a4be5a9",
   "metadata": {},
   "outputs": [],
   "source": [
    "X = df.drop(['price'], axis=1)\n",
    "y = np.log(df['price'].values)\n",
    "X_train, X_test, y_train, y_test = train_test_split(X, y, test_size=0.2)"
   ]
  },
  {
   "cell_type": "code",
   "execution_count": 17,
   "id": "0912db36",
   "metadata": {},
   "outputs": [
    {
     "data": {
      "text/html": [
       "<div>\n",
       "<style scoped>\n",
       "    .dataframe tbody tr th:only-of-type {\n",
       "        vertical-align: middle;\n",
       "    }\n",
       "\n",
       "    .dataframe tbody tr th {\n",
       "        vertical-align: top;\n",
       "    }\n",
       "\n",
       "    .dataframe thead th {\n",
       "        text-align: right;\n",
       "    }\n",
       "</style>\n",
       "<table border=\"1\" class=\"dataframe\">\n",
       "  <thead>\n",
       "    <tr style=\"text-align: right;\">\n",
       "      <th></th>\n",
       "      <th>brand</th>\n",
       "      <th>model</th>\n",
       "      <th>mileage</th>\n",
       "      <th>drive_type</th>\n",
       "      <th>fuel_type</th>\n",
       "      <th>accidents</th>\n",
       "      <th>owners</th>\n",
       "      <th>car_age</th>\n",
       "    </tr>\n",
       "  </thead>\n",
       "  <tbody>\n",
       "    <tr>\n",
       "      <th>0</th>\n",
       "      <td>Honda</td>\n",
       "      <td>Ridgeline</td>\n",
       "      <td>101576</td>\n",
       "      <td>AWD</td>\n",
       "      <td>Gas</td>\n",
       "      <td>0</td>\n",
       "      <td>3</td>\n",
       "      <td>5</td>\n",
       "    </tr>\n",
       "    <tr>\n",
       "      <th>1</th>\n",
       "      <td>Toyota</td>\n",
       "      <td>Prius</td>\n",
       "      <td>65082</td>\n",
       "      <td>FWD</td>\n",
       "      <td>Hybrid</td>\n",
       "      <td>0</td>\n",
       "      <td>1</td>\n",
       "      <td>10</td>\n",
       "    </tr>\n",
       "    <tr>\n",
       "      <th>2</th>\n",
       "      <td>Jaguar</td>\n",
       "      <td>F-PACE</td>\n",
       "      <td>29717</td>\n",
       "      <td>AWD</td>\n",
       "      <td>Gas</td>\n",
       "      <td>0</td>\n",
       "      <td>1</td>\n",
       "      <td>4</td>\n",
       "    </tr>\n",
       "    <tr>\n",
       "      <th>3</th>\n",
       "      <td>Ford</td>\n",
       "      <td>Fusion</td>\n",
       "      <td>154044</td>\n",
       "      <td>FWD</td>\n",
       "      <td>Gas</td>\n",
       "      <td>0</td>\n",
       "      <td>2</td>\n",
       "      <td>9</td>\n",
       "    </tr>\n",
       "    <tr>\n",
       "      <th>4</th>\n",
       "      <td>Lexus</td>\n",
       "      <td>LX</td>\n",
       "      <td>224550</td>\n",
       "      <td>4WD</td>\n",
       "      <td>Gas</td>\n",
       "      <td>1</td>\n",
       "      <td>1</td>\n",
       "      <td>16</td>\n",
       "    </tr>\n",
       "  </tbody>\n",
       "</table>\n",
       "</div>"
      ],
      "text/plain": [
       "    brand      model  mileage drive_type fuel_type  accidents  owners  car_age\n",
       "0   Honda  Ridgeline   101576        AWD       Gas          0       3        5\n",
       "1  Toyota      Prius    65082        FWD    Hybrid          0       1       10\n",
       "2  Jaguar     F-PACE    29717        AWD       Gas          0       1        4\n",
       "3    Ford     Fusion   154044        FWD       Gas          0       2        9\n",
       "4   Lexus         LX   224550        4WD       Gas          1       1       16"
      ]
     },
     "execution_count": 17,
     "metadata": {},
     "output_type": "execute_result"
    }
   ],
   "source": [
    "X.head()"
   ]
  },
  {
   "cell_type": "markdown",
   "id": "c082a04b",
   "metadata": {},
   "source": [
    "### PIPELINE"
   ]
  },
  {
   "cell_type": "code",
   "execution_count": 18,
   "id": "8cbd3fda",
   "metadata": {},
   "outputs": [],
   "source": [
    "numeric_transformer = Pipeline(steps=[\n",
    "    ('scaler', StandardScaler()) ])\n",
    "\n",
    "categorical_transformer = Pipeline(steps=[\n",
    "    ('one_hot', OneHotEncoder(handle_unknown='ignore'))])\n",
    "\n",
    "preprocessor = ColumnTransformer(\n",
    "    transformers=[\n",
    "        ('num', numeric_transformer, num_feat),\n",
    "        ('cat', categorical_transformer, cat_feat)\n",
    "    ])"
   ]
  },
  {
   "cell_type": "markdown",
   "id": "1e7bd6dc",
   "metadata": {},
   "source": [
    "## Linear Regression"
   ]
  },
  {
   "cell_type": "code",
   "execution_count": 19,
   "id": "a2dac923",
   "metadata": {},
   "outputs": [
    {
     "data": {
      "text/plain": [
       "0.9080822117714455"
      ]
     },
     "execution_count": 19,
     "metadata": {},
     "output_type": "execute_result"
    }
   ],
   "source": [
    "pipe = Pipeline(steps=[\n",
    "    ('preprocessor', preprocessor),\n",
    "    ('classifier',  LinearRegression())\n",
    "])\n",
    "\n",
    "model_lin = pipe.fit(X_train, y_train)\n",
    "y_pred_train = model_lin.predict(X_train)\n",
    "y_pred_test = model_lin.predict(X_test)\n",
    "\n",
    "model_lin.score(X_test, y_test)"
   ]
  },
  {
   "cell_type": "code",
   "execution_count": 20,
   "id": "2227ef55",
   "metadata": {},
   "outputs": [
    {
     "data": {
      "text/html": [
       "<style>#sk-container-id-1 {color: black;background-color: white;}#sk-container-id-1 pre{padding: 0;}#sk-container-id-1 div.sk-toggleable {background-color: white;}#sk-container-id-1 label.sk-toggleable__label {cursor: pointer;display: block;width: 100%;margin-bottom: 0;padding: 0.3em;box-sizing: border-box;text-align: center;}#sk-container-id-1 label.sk-toggleable__label-arrow:before {content: \"▸\";float: left;margin-right: 0.25em;color: #696969;}#sk-container-id-1 label.sk-toggleable__label-arrow:hover:before {color: black;}#sk-container-id-1 div.sk-estimator:hover label.sk-toggleable__label-arrow:before {color: black;}#sk-container-id-1 div.sk-toggleable__content {max-height: 0;max-width: 0;overflow: hidden;text-align: left;background-color: #f0f8ff;}#sk-container-id-1 div.sk-toggleable__content pre {margin: 0.2em;color: black;border-radius: 0.25em;background-color: #f0f8ff;}#sk-container-id-1 input.sk-toggleable__control:checked~div.sk-toggleable__content {max-height: 200px;max-width: 100%;overflow: auto;}#sk-container-id-1 input.sk-toggleable__control:checked~label.sk-toggleable__label-arrow:before {content: \"▾\";}#sk-container-id-1 div.sk-estimator input.sk-toggleable__control:checked~label.sk-toggleable__label {background-color: #d4ebff;}#sk-container-id-1 div.sk-label input.sk-toggleable__control:checked~label.sk-toggleable__label {background-color: #d4ebff;}#sk-container-id-1 input.sk-hidden--visually {border: 0;clip: rect(1px 1px 1px 1px);clip: rect(1px, 1px, 1px, 1px);height: 1px;margin: -1px;overflow: hidden;padding: 0;position: absolute;width: 1px;}#sk-container-id-1 div.sk-estimator {font-family: monospace;background-color: #f0f8ff;border: 1px dotted black;border-radius: 0.25em;box-sizing: border-box;margin-bottom: 0.5em;}#sk-container-id-1 div.sk-estimator:hover {background-color: #d4ebff;}#sk-container-id-1 div.sk-parallel-item::after {content: \"\";width: 100%;border-bottom: 1px solid gray;flex-grow: 1;}#sk-container-id-1 div.sk-label:hover label.sk-toggleable__label {background-color: #d4ebff;}#sk-container-id-1 div.sk-serial::before {content: \"\";position: absolute;border-left: 1px solid gray;box-sizing: border-box;top: 0;bottom: 0;left: 50%;z-index: 0;}#sk-container-id-1 div.sk-serial {display: flex;flex-direction: column;align-items: center;background-color: white;padding-right: 0.2em;padding-left: 0.2em;position: relative;}#sk-container-id-1 div.sk-item {position: relative;z-index: 1;}#sk-container-id-1 div.sk-parallel {display: flex;align-items: stretch;justify-content: center;background-color: white;position: relative;}#sk-container-id-1 div.sk-item::before, #sk-container-id-1 div.sk-parallel-item::before {content: \"\";position: absolute;border-left: 1px solid gray;box-sizing: border-box;top: 0;bottom: 0;left: 50%;z-index: -1;}#sk-container-id-1 div.sk-parallel-item {display: flex;flex-direction: column;z-index: 1;position: relative;background-color: white;}#sk-container-id-1 div.sk-parallel-item:first-child::after {align-self: flex-end;width: 50%;}#sk-container-id-1 div.sk-parallel-item:last-child::after {align-self: flex-start;width: 50%;}#sk-container-id-1 div.sk-parallel-item:only-child::after {width: 0;}#sk-container-id-1 div.sk-dashed-wrapped {border: 1px dashed gray;margin: 0 0.4em 0.5em 0.4em;box-sizing: border-box;padding-bottom: 0.4em;background-color: white;}#sk-container-id-1 div.sk-label label {font-family: monospace;font-weight: bold;display: inline-block;line-height: 1.2em;}#sk-container-id-1 div.sk-label-container {text-align: center;}#sk-container-id-1 div.sk-container {/* jupyter's `normalize.less` sets `[hidden] { display: none; }` but bootstrap.min.css set `[hidden] { display: none !important; }` so we also need the `!important` here to be able to override the default hidden behavior on the sphinx rendered scikit-learn.org. See: https://github.com/scikit-learn/scikit-learn/issues/21755 */display: inline-block !important;position: relative;}#sk-container-id-1 div.sk-text-repr-fallback {display: none;}</style><div id=\"sk-container-id-1\" class=\"sk-top-container\"><div class=\"sk-text-repr-fallback\"><pre>Pipeline(steps=[(&#x27;preprocessor&#x27;,\n",
       "                 ColumnTransformer(transformers=[(&#x27;num&#x27;,\n",
       "                                                  Pipeline(steps=[(&#x27;scaler&#x27;,\n",
       "                                                                   StandardScaler())]),\n",
       "                                                  Index([&#x27;mileage&#x27;, &#x27;accidents&#x27;, &#x27;owners&#x27;, &#x27;car_age&#x27;], dtype=&#x27;object&#x27;)),\n",
       "                                                 (&#x27;cat&#x27;,\n",
       "                                                  Pipeline(steps=[(&#x27;one_hot&#x27;,\n",
       "                                                                   OneHotEncoder(handle_unknown=&#x27;ignore&#x27;))]),\n",
       "                                                  Index([&#x27;brand&#x27;, &#x27;model&#x27;, &#x27;drive_type&#x27;, &#x27;fuel_type&#x27;], dtype=&#x27;object&#x27;))])),\n",
       "                (&#x27;classifier&#x27;, LinearRegression())])</pre><b>In a Jupyter environment, please rerun this cell to show the HTML representation or trust the notebook. <br />On GitHub, the HTML representation is unable to render, please try loading this page with nbviewer.org.</b></div><div class=\"sk-container\" hidden><div class=\"sk-item sk-dashed-wrapped\"><div class=\"sk-label-container\"><div class=\"sk-label sk-toggleable\"><input class=\"sk-toggleable__control sk-hidden--visually\" id=\"sk-estimator-id-1\" type=\"checkbox\" ><label for=\"sk-estimator-id-1\" class=\"sk-toggleable__label sk-toggleable__label-arrow\">Pipeline</label><div class=\"sk-toggleable__content\"><pre>Pipeline(steps=[(&#x27;preprocessor&#x27;,\n",
       "                 ColumnTransformer(transformers=[(&#x27;num&#x27;,\n",
       "                                                  Pipeline(steps=[(&#x27;scaler&#x27;,\n",
       "                                                                   StandardScaler())]),\n",
       "                                                  Index([&#x27;mileage&#x27;, &#x27;accidents&#x27;, &#x27;owners&#x27;, &#x27;car_age&#x27;], dtype=&#x27;object&#x27;)),\n",
       "                                                 (&#x27;cat&#x27;,\n",
       "                                                  Pipeline(steps=[(&#x27;one_hot&#x27;,\n",
       "                                                                   OneHotEncoder(handle_unknown=&#x27;ignore&#x27;))]),\n",
       "                                                  Index([&#x27;brand&#x27;, &#x27;model&#x27;, &#x27;drive_type&#x27;, &#x27;fuel_type&#x27;], dtype=&#x27;object&#x27;))])),\n",
       "                (&#x27;classifier&#x27;, LinearRegression())])</pre></div></div></div><div class=\"sk-serial\"><div class=\"sk-item sk-dashed-wrapped\"><div class=\"sk-label-container\"><div class=\"sk-label sk-toggleable\"><input class=\"sk-toggleable__control sk-hidden--visually\" id=\"sk-estimator-id-2\" type=\"checkbox\" ><label for=\"sk-estimator-id-2\" class=\"sk-toggleable__label sk-toggleable__label-arrow\">preprocessor: ColumnTransformer</label><div class=\"sk-toggleable__content\"><pre>ColumnTransformer(transformers=[(&#x27;num&#x27;,\n",
       "                                 Pipeline(steps=[(&#x27;scaler&#x27;, StandardScaler())]),\n",
       "                                 Index([&#x27;mileage&#x27;, &#x27;accidents&#x27;, &#x27;owners&#x27;, &#x27;car_age&#x27;], dtype=&#x27;object&#x27;)),\n",
       "                                (&#x27;cat&#x27;,\n",
       "                                 Pipeline(steps=[(&#x27;one_hot&#x27;,\n",
       "                                                  OneHotEncoder(handle_unknown=&#x27;ignore&#x27;))]),\n",
       "                                 Index([&#x27;brand&#x27;, &#x27;model&#x27;, &#x27;drive_type&#x27;, &#x27;fuel_type&#x27;], dtype=&#x27;object&#x27;))])</pre></div></div></div><div class=\"sk-parallel\"><div class=\"sk-parallel-item\"><div class=\"sk-item\"><div class=\"sk-label-container\"><div class=\"sk-label sk-toggleable\"><input class=\"sk-toggleable__control sk-hidden--visually\" id=\"sk-estimator-id-3\" type=\"checkbox\" ><label for=\"sk-estimator-id-3\" class=\"sk-toggleable__label sk-toggleable__label-arrow\">num</label><div class=\"sk-toggleable__content\"><pre>Index([&#x27;mileage&#x27;, &#x27;accidents&#x27;, &#x27;owners&#x27;, &#x27;car_age&#x27;], dtype=&#x27;object&#x27;)</pre></div></div></div><div class=\"sk-serial\"><div class=\"sk-item\"><div class=\"sk-serial\"><div class=\"sk-item\"><div class=\"sk-estimator sk-toggleable\"><input class=\"sk-toggleable__control sk-hidden--visually\" id=\"sk-estimator-id-4\" type=\"checkbox\" ><label for=\"sk-estimator-id-4\" class=\"sk-toggleable__label sk-toggleable__label-arrow\">StandardScaler</label><div class=\"sk-toggleable__content\"><pre>StandardScaler()</pre></div></div></div></div></div></div></div></div><div class=\"sk-parallel-item\"><div class=\"sk-item\"><div class=\"sk-label-container\"><div class=\"sk-label sk-toggleable\"><input class=\"sk-toggleable__control sk-hidden--visually\" id=\"sk-estimator-id-5\" type=\"checkbox\" ><label for=\"sk-estimator-id-5\" class=\"sk-toggleable__label sk-toggleable__label-arrow\">cat</label><div class=\"sk-toggleable__content\"><pre>Index([&#x27;brand&#x27;, &#x27;model&#x27;, &#x27;drive_type&#x27;, &#x27;fuel_type&#x27;], dtype=&#x27;object&#x27;)</pre></div></div></div><div class=\"sk-serial\"><div class=\"sk-item\"><div class=\"sk-serial\"><div class=\"sk-item\"><div class=\"sk-estimator sk-toggleable\"><input class=\"sk-toggleable__control sk-hidden--visually\" id=\"sk-estimator-id-6\" type=\"checkbox\" ><label for=\"sk-estimator-id-6\" class=\"sk-toggleable__label sk-toggleable__label-arrow\">OneHotEncoder</label><div class=\"sk-toggleable__content\"><pre>OneHotEncoder(handle_unknown=&#x27;ignore&#x27;)</pre></div></div></div></div></div></div></div></div></div></div><div class=\"sk-item\"><div class=\"sk-estimator sk-toggleable\"><input class=\"sk-toggleable__control sk-hidden--visually\" id=\"sk-estimator-id-7\" type=\"checkbox\" ><label for=\"sk-estimator-id-7\" class=\"sk-toggleable__label sk-toggleable__label-arrow\">LinearRegression</label><div class=\"sk-toggleable__content\"><pre>LinearRegression()</pre></div></div></div></div></div></div></div>"
      ],
      "text/plain": [
       "Pipeline(steps=[('preprocessor',\n",
       "                 ColumnTransformer(transformers=[('num',\n",
       "                                                  Pipeline(steps=[('scaler',\n",
       "                                                                   StandardScaler())]),\n",
       "                                                  Index(['mileage', 'accidents', 'owners', 'car_age'], dtype='object')),\n",
       "                                                 ('cat',\n",
       "                                                  Pipeline(steps=[('one_hot',\n",
       "                                                                   OneHotEncoder(handle_unknown='ignore'))]),\n",
       "                                                  Index(['brand', 'model', 'drive_type', 'fuel_type'], dtype='object'))])),\n",
       "                ('classifier', LinearRegression())])"
      ]
     },
     "execution_count": 20,
     "metadata": {},
     "output_type": "execute_result"
    }
   ],
   "source": [
    "model_lin"
   ]
  },
  {
   "cell_type": "markdown",
   "id": "5c7cfd38",
   "metadata": {},
   "source": [
    "Mostly 90% of times the model would predict a correct value"
   ]
  },
  {
   "cell_type": "code",
   "execution_count": 21,
   "id": "3fea3a47",
   "metadata": {},
   "outputs": [
    {
     "name": "stdout",
     "output_type": "stream",
     "text": [
      "Root Mean Square Error Linear Regression: 4648.278961160089\n"
     ]
    }
   ],
   "source": [
    "rmse_train = np.sqrt(mean_squared_error(np.exp(y_train),np.exp(y_pred_train)))\n",
    "print(f'Root Mean Square Error Linear Regression: {rmse_train}')"
   ]
  },
  {
   "cell_type": "code",
   "execution_count": 22,
   "id": "05940723",
   "metadata": {},
   "outputs": [
    {
     "name": "stdout",
     "output_type": "stream",
     "text": [
      "Root Mean Square Error Linear Regression: 5026.248182304973\n"
     ]
    }
   ],
   "source": [
    "# Checking RMSE for this model\n",
    "rmse_test = np.sqrt(mean_squared_error(np.exp(y_test),np.exp(y_pred_test)))\n",
    "print(f'Root Mean Square Error Linear Regression: {rmse_test}')"
   ]
  },
  {
   "cell_type": "code",
   "execution_count": 23,
   "id": "1301022a",
   "metadata": {},
   "outputs": [
    {
     "data": {
      "image/png": "[encoded data removed]",
      "text/plain": [
       "<Figure size 720x360 with 1 Axes>"
      ]
     },
     "metadata": {
      "needs_background": "light"
     },
     "output_type": "display_data"
    }
   ],
   "source": [
    "plt.figure(figsize=(10,5))\n",
    "plt.plot(y_test, y_pred_test,'ro',alpha=0.2)\n",
    "plt.xlabel('Actual')\n",
    "plt.ylabel('Predicted')\n",
    "plt.show()"
   ]
  },
  {
   "cell_type": "markdown",
   "id": "fa7ea9f6",
   "metadata": {},
   "source": [
    "Our training dataset looks very good, though its not completely random, there is linearity in the plot"
   ]
  },
  {
   "cell_type": "markdown",
   "id": "99982fab",
   "metadata": {},
   "source": [
    "### Residual plot"
   ]
  },
  {
   "cell_type": "code",
   "execution_count": 24,
   "id": "73cb30a2",
   "metadata": {},
   "outputs": [
    {
     "data": {
      "text/plain": [
       "Text(0.5, 1.0, 'Residual plot for linear regression training model')"
      ]
     },
     "execution_count": 24,
     "metadata": {},
     "output_type": "execute_result"
    },
    {
     "data": {
      "image/png": "[encoded data removed]",
      "text/plain": [
       "<Figure size 720x360 with 1 Axes>"
      ]
     },
     "metadata": {
      "needs_background": "light"
     },
     "output_type": "display_data"
    }
   ],
   "source": [
    "residual_plot = (y_test - y_pred_test)\n",
    "plt.figure(figsize=(10,5))\n",
    "sns.distplot(residual_plot);\n",
    "plt.title('Residual plot for linear regression training model')"
   ]
  },
  {
   "cell_type": "markdown",
   "id": "88b5c79f",
   "metadata": {},
   "source": [
    "1. Most of the values lie in and around zero which is very good. \n",
    "2. From this model we can interpret that sometime when car price would be less this model might predict wrong because mean square error is 5911 approx"
   ]
  },
  {
   "cell_type": "code",
   "execution_count": null,
   "id": "ec248c60",
   "metadata": {},
   "outputs": [],
   "source": []
  },
  {
   "cell_type": "code",
   "execution_count": null,
   "id": "e70d605a",
   "metadata": {},
   "outputs": [],
   "source": []
  },
  {
   "cell_type": "code",
   "execution_count": null,
   "id": "41d852ec",
   "metadata": {},
   "outputs": [],
   "source": []
  },
  {
   "cell_type": "markdown",
   "id": "865249e5",
   "metadata": {},
   "source": [
    "## RANDOM FOREST MODEL"
   ]
  },
  {
   "cell_type": "code",
   "execution_count": 25,
   "id": "156e9ce1",
   "metadata": {},
   "outputs": [
    {
     "name": "stdout",
     "output_type": "stream",
     "text": [
      "Training set score: 0.9785275648413174\n",
      "Test set score: 0.8555049824659446\n"
     ]
    }
   ],
   "source": [
    "pipe_rf = Pipeline(steps=[\n",
    "    ('preprocessor', preprocessor),\n",
    "    ('classifier',   RandomForestRegressor())\n",
    "])\n",
    "\n",
    "model_rf = pipe_rf.fit(X_train, y_train)\n",
    "\n",
    "y_pred_rf_train = model_rf.predict(X_train)\n",
    "y_pred_rf_test = model_rf.predict(X_test)\n",
    "\n",
    "print('Training set score: ' + str(model_rf.score(X_train, y_train)))\n",
    "print('Test set score: ' + str(model_rf.score(X_test, y_test)))"
   ]
  },
  {
   "cell_type": "code",
   "execution_count": 26,
   "id": "d5c828b2",
   "metadata": {},
   "outputs": [
    {
     "name": "stdout",
     "output_type": "stream",
     "text": [
      "Root Mean Square Error RF Model for train data: 3376.4477175372913\n"
     ]
    }
   ],
   "source": [
    "rmse_rf_train = np.sqrt(mean_squared_error(np.exp(y_train),np.exp(y_pred_rf_train)))\n",
    "print(f'Root Mean Square Error RF Model for train data: {rmse_rf_train}')"
   ]
  },
  {
   "cell_type": "code",
   "execution_count": 27,
   "id": "82fc49bc",
   "metadata": {},
   "outputs": [
    {
     "name": "stdout",
     "output_type": "stream",
     "text": [
      "Root Mean Square Error Random Forest wt Onehotencoding: 6326.0893511391405\n"
     ]
    }
   ],
   "source": [
    "rmse_rf_test = np.sqrt(mean_squared_error(np.exp(y_test),np.exp(y_pred_rf_test)))\n",
    "print(f'Root Mean Square Error Random Forest wt Onehotencoding: {rmse_rf_test}')"
   ]
  },
  {
   "cell_type": "markdown",
   "id": "14a50412",
   "metadata": {},
   "source": [
    "### Hyper Tuning the RF model Grid Search CV"
   ]
  },
  {
   "cell_type": "markdown",
   "id": "884ef59a",
   "metadata": {},
   "source": [
    "The above model was overfitting for training data so we go ahead with hypertuning the model"
   ]
  },
  {
   "cell_type": "code",
   "execution_count": 28,
   "id": "9549048f",
   "metadata": {},
   "outputs": [],
   "source": [
    "param_grid = [{'classifier__n_estimators': [10, 25], \n",
    "               'classifier__max_features': ['auto', 'sqrt', 'log2'],\n",
    " 'classifier__max_depth': [10, 50, None]}]\n",
    "# param_grid = [{'classifier__n_estimators': [10, 25], \n",
    "#                #'classifier__max_features': [5, 10], \n",
    "#  'classifier__max_depth': [2,4,6,8, None]}]"
   ]
  },
  {
   "cell_type": "code",
   "execution_count": 29,
   "id": "78ab03d1",
   "metadata": {},
   "outputs": [],
   "source": [
    "# Hypertuning this model\n",
    "model_rf_gsc = GridSearchCV(pipe_rf, param_grid, cv=10, scoring='neg_mean_squared_error')"
   ]
  },
  {
   "cell_type": "code",
   "execution_count": 31,
   "id": "04e275c8",
   "metadata": {},
   "outputs": [
    {
     "data": {
      "text/plain": [
       "{'classifier__max_depth': None,\n",
       " 'classifier__max_features': 'sqrt',\n",
       " 'classifier__n_estimators': 25}"
      ]
     },
     "execution_count": 31,
     "metadata": {},
     "output_type": "execute_result"
    }
   ],
   "source": [
    "model_rf_gsc.fit(X_train, y_train)\n",
    "model_rf_gsc.best_params_"
   ]
  },
  {
   "cell_type": "code",
   "execution_count": 32,
   "id": "2ea73c53",
   "metadata": {},
   "outputs": [],
   "source": [
    "y_pred_rf_gsc_train = model_rf_gsc.predict(X_train)"
   ]
  },
  {
   "cell_type": "code",
   "execution_count": 33,
   "id": "5c6e3288",
   "metadata": {},
   "outputs": [],
   "source": [
    "y_pred_rf_gsc_test = model_rf_gsc.predict(X_test)"
   ]
  },
  {
   "cell_type": "code",
   "execution_count": 34,
   "id": "c7b6e0d9",
   "metadata": {},
   "outputs": [
    {
     "data": {
      "text/plain": [
       "0.9781460678592485"
      ]
     },
     "execution_count": 34,
     "metadata": {},
     "output_type": "execute_result"
    }
   ],
   "source": [
    "r2_score(y_train, y_pred_rf_gsc_train )"
   ]
  },
  {
   "cell_type": "code",
   "execution_count": 35,
   "id": "b5171162",
   "metadata": {},
   "outputs": [
    {
     "data": {
      "text/plain": [
       "0.8601957351946103"
      ]
     },
     "execution_count": 35,
     "metadata": {},
     "output_type": "execute_result"
    }
   ],
   "source": [
    "r2_score(y_test, y_pred_rf_gsc_test )"
   ]
  },
  {
   "cell_type": "code",
   "execution_count": 36,
   "id": "c84f8e56",
   "metadata": {},
   "outputs": [
    {
     "name": "stdout",
     "output_type": "stream",
     "text": [
      "Root Mean Square Error RF-GSC-Train: 2985.575978021318\n"
     ]
    }
   ],
   "source": [
    "rmse_rf_gsc_train = np.sqrt(mean_squared_error(np.exp(y_train),np.exp(y_pred_rf_gsc_train)))\n",
    "print(f'Root Mean Square Error RF-GSC-Train: {rmse_rf_gsc_train}')"
   ]
  },
  {
   "cell_type": "code",
   "execution_count": 37,
   "id": "f8b3959f",
   "metadata": {},
   "outputs": [
    {
     "name": "stdout",
     "output_type": "stream",
     "text": [
      "Root Mean Square Error RF-GSC-Test: 6347.630632908196\n"
     ]
    }
   ],
   "source": [
    "rmse_rf_gsc_test = np.sqrt(mean_squared_error(np.exp(y_test),np.exp(y_pred_rf_gsc_test)))\n",
    "print(f'Root Mean Square Error RF-GSC-Test: {rmse_rf_gsc_test}')"
   ]
  },
  {
   "cell_type": "markdown",
   "id": "845c1fa8",
   "metadata": {},
   "source": [
    "Random forest has better performance when compared to Linear Regression Model. Now next for this model we would not induce one hot encoding because we all know that random forest classifier is sensitive to one hot encoding if we induce one-hot to a decision tree splitting can result in sparse decision tree. The trees generally tend to grow in one direction because at every split of a categorical variable there are only two values (0 or 1). The tree grows in the direction of zeroes in the dummy variables."
   ]
  },
  {
   "cell_type": "markdown",
   "id": "4f5a2360",
   "metadata": {},
   "source": [
    "### Now using label encoder with RF model"
   ]
  },
  {
   "cell_type": "code",
   "execution_count": 38,
   "id": "3dafbf81",
   "metadata": {},
   "outputs": [],
   "source": [
    "X_rf = X_temp.drop(['car_usage_type','interior_color','exterior_color','state','transmission'], axis=1)\n",
    "y_rf = df['price'].values"
   ]
  },
  {
   "cell_type": "code",
   "execution_count": 39,
   "id": "68878a96",
   "metadata": {},
   "outputs": [],
   "source": [
    "X_train_rf, X_test_rf, y_train_rf, y_test_rf = train_test_split(X_rf, y_rf, test_size=0.2)"
   ]
  },
  {
   "cell_type": "code",
   "execution_count": 40,
   "id": "cf11be9e",
   "metadata": {},
   "outputs": [],
   "source": [
    "pipe_rf_base = Pipeline([\n",
    "# ('scaler', StandardScaler()),\n",
    "('classifier', RandomForestRegressor())])"
   ]
  },
  {
   "cell_type": "code",
   "execution_count": 41,
   "id": "b532fde1",
   "metadata": {},
   "outputs": [
    {
     "name": "stdout",
     "output_type": "stream",
     "text": [
      "Training set score: 0.9731071263528878\n",
      "Test set score: 0.7874796048204646\n"
     ]
    }
   ],
   "source": [
    "model_rf_2 = pipe_rf_base.fit(X_train_rf, y_train_rf)\n",
    "y_pred_rf_2_train = model_rf_2.predict(X_train_rf)\n",
    "y_pred_rf_2_test = model_rf_2.predict(X_test_rf)\n",
    "print('Training set score: ' + str(pipe_rf_base.score(X_train_rf,y_train_rf)))\n",
    "print('Test set score: ' + str(pipe_rf_base.score(X_test_rf,y_test_rf)))"
   ]
  },
  {
   "cell_type": "code",
   "execution_count": 42,
   "id": "f26dea67",
   "metadata": {},
   "outputs": [
    {
     "name": "stdout",
     "output_type": "stream",
     "text": [
      "Root Mean Square Error RF model with lc for train data: 2405.2216849813153\n"
     ]
    }
   ],
   "source": [
    "rmse_rf_2_train = np.sqrt(mean_squared_error(y_train_rf,y_pred_rf_2_train))\n",
    "print(f'Root Mean Square Error RF model with lc for train data: {rmse_rf_2_train}')"
   ]
  },
  {
   "cell_type": "code",
   "execution_count": 43,
   "id": "cf3def5c",
   "metadata": {},
   "outputs": [
    {
     "name": "stdout",
     "output_type": "stream",
     "text": [
      "Root Mean Square Error RF model with lc for test data: 6710.209042581221\n"
     ]
    }
   ],
   "source": [
    "rmse_rf_2_test = np.sqrt(mean_squared_error(y_test_rf,y_pred_rf_2_test))\n",
    "print(f'Root Mean Square Error RF model with lc for test data: {rmse_rf_2_test}')"
   ]
  },
  {
   "cell_type": "markdown",
   "id": "8d9957f0",
   "metadata": {},
   "source": [
    "### Hyper Tuning this model with Grid Search CV"
   ]
  },
  {
   "cell_type": "code",
   "execution_count": 44,
   "id": "5957b701",
   "metadata": {},
   "outputs": [],
   "source": [
    "model_rf_3 = GridSearchCV(pipe_rf_base, param_grid, cv=10)"
   ]
  },
  {
   "cell_type": "code",
   "execution_count": 45,
   "id": "6dc2197a",
   "metadata": {},
   "outputs": [
    {
     "data": {
      "text/plain": [
       "{'classifier__max_depth': 50,\n",
       " 'classifier__max_features': 'sqrt',\n",
       " 'classifier__n_estimators': 25}"
      ]
     },
     "execution_count": 45,
     "metadata": {},
     "output_type": "execute_result"
    }
   ],
   "source": [
    "model_rf_3.fit(X_train_rf, y_train_rf)\n",
    "model_rf_3.best_params_"
   ]
  },
  {
   "cell_type": "code",
   "execution_count": 46,
   "id": "09d9bb62",
   "metadata": {},
   "outputs": [],
   "source": [
    "y_pred_hpr_rf_train = model_rf_3.predict(X_train_rf)"
   ]
  },
  {
   "cell_type": "code",
   "execution_count": 47,
   "id": "1c1b1710",
   "metadata": {},
   "outputs": [],
   "source": [
    "y_pred_hpr_rf_test = model_rf_3.predict(X_test_rf)"
   ]
  },
  {
   "cell_type": "code",
   "execution_count": 48,
   "id": "79fcd691",
   "metadata": {},
   "outputs": [
    {
     "data": {
      "text/plain": [
       "0.8231055530717257"
      ]
     },
     "execution_count": 48,
     "metadata": {},
     "output_type": "execute_result"
    }
   ],
   "source": [
    "r2_score(y_test_rf, y_pred_hpr_rf_test )"
   ]
  },
  {
   "cell_type": "code",
   "execution_count": 49,
   "id": "d714e4f2",
   "metadata": {},
   "outputs": [
    {
     "name": "stdout",
     "output_type": "stream",
     "text": [
      "Root Mean Square Error RF-HPR-Train: 2634.8682981606275\n"
     ]
    }
   ],
   "source": [
    "rmse_rf_hpr_train = np.sqrt(mean_squared_error(y_train_rf,y_pred_hpr_rf_train))\n",
    "print(f'Root Mean Square Error RF-HPR-Train: {rmse_rf_hpr_train}')"
   ]
  },
  {
   "cell_type": "code",
   "execution_count": 50,
   "id": "129c45e2",
   "metadata": {},
   "outputs": [
    {
     "name": "stdout",
     "output_type": "stream",
     "text": [
      "Root Mean Square Error RF-HPR-Test: 6121.993193261241\n"
     ]
    }
   ],
   "source": [
    "rmse_rf_hpr_test = np.sqrt(mean_squared_error(y_test_rf,y_pred_hpr_rf_test))\n",
    "print(f'Root Mean Square Error RF-HPR-Test: {rmse_rf_hpr_test}')"
   ]
  },
  {
   "cell_type": "markdown",
   "id": "09c95c35",
   "metadata": {},
   "source": [
    "Hypertuning the model with Grid Search Cross validation is not imporving RMSE by much now we will try Random SearchCV"
   ]
  },
  {
   "cell_type": "markdown",
   "id": "d6d7f3d9",
   "metadata": {},
   "source": [
    "### Randomized SearchCV with RF model"
   ]
  },
  {
   "cell_type": "code",
   "execution_count": 51,
   "id": "cd9ab1c9",
   "metadata": {},
   "outputs": [
    {
     "name": "stdout",
     "output_type": "stream",
     "text": [
      "{'max_depth': [1, 23, 45],\n",
      " 'max_features': ['auto', 'sqrt'],\n",
      " 'min_samples_split': [5, 10],\n",
      " 'n_estimators': [20, 65, 110, 155, 200]}\n"
     ]
    }
   ],
   "source": [
    "# Number of trees in random forest\n",
    "n_estimators = [int(x) for x in np.linspace(start = 20, stop = 200, num = 5)]\n",
    "# Number of features to consider at every split\n",
    "max_features = ['auto', 'sqrt']\n",
    "# Maximum number of levels in tree\n",
    "max_depth = [int(x) for x in np.linspace(1, 45, num = 3)]\n",
    "# Minimum number of samples required to split a node\n",
    "min_samples_split = [5, 10]\n",
    "\n",
    "# Create the random grid\n",
    "random_grid = {'n_estimators': n_estimators,\n",
    "               'max_features': max_features,\n",
    "               'max_depth': max_depth,\n",
    "               'min_samples_split': min_samples_split}\n",
    "\n",
    "pprint(random_grid)"
   ]
  },
  {
   "cell_type": "code",
   "execution_count": 52,
   "id": "6782a757",
   "metadata": {},
   "outputs": [],
   "source": [
    "forest = RandomForestRegressor()"
   ]
  },
  {
   "cell_type": "code",
   "execution_count": 53,
   "id": "93362d73",
   "metadata": {},
   "outputs": [
    {
     "name": "stdout",
     "output_type": "stream",
     "text": [
      "Fitting 10 folds for each of 10 candidates, totalling 100 fits\n"
     ]
    },
    {
     "data": {
      "text/html": [
       "<style>#sk-container-id-2 {color: black;background-color: white;}#sk-container-id-2 pre{padding: 0;}#sk-container-id-2 div.sk-toggleable {background-color: white;}#sk-container-id-2 label.sk-toggleable__label {cursor: pointer;display: block;width: 100%;margin-bottom: 0;padding: 0.3em;box-sizing: border-box;text-align: center;}#sk-container-id-2 label.sk-toggleable__label-arrow:before {content: \"▸\";float: left;margin-right: 0.25em;color: #696969;}#sk-container-id-2 label.sk-toggleable__label-arrow:hover:before {color: black;}#sk-container-id-2 div.sk-estimator:hover label.sk-toggleable__label-arrow:before {color: black;}#sk-container-id-2 div.sk-toggleable__content {max-height: 0;max-width: 0;overflow: hidden;text-align: left;background-color: #f0f8ff;}#sk-container-id-2 div.sk-toggleable__content pre {margin: 0.2em;color: black;border-radius: 0.25em;background-color: #f0f8ff;}#sk-container-id-2 input.sk-toggleable__control:checked~div.sk-toggleable__content {max-height: 200px;max-width: 100%;overflow: auto;}#sk-container-id-2 input.sk-toggleable__control:checked~label.sk-toggleable__label-arrow:before {content: \"▾\";}#sk-container-id-2 div.sk-estimator input.sk-toggleable__control:checked~label.sk-toggleable__label {background-color: #d4ebff;}#sk-container-id-2 div.sk-label input.sk-toggleable__control:checked~label.sk-toggleable__label {background-color: #d4ebff;}#sk-container-id-2 input.sk-hidden--visually {border: 0;clip: rect(1px 1px 1px 1px);clip: rect(1px, 1px, 1px, 1px);height: 1px;margin: -1px;overflow: hidden;padding: 0;position: absolute;width: 1px;}#sk-container-id-2 div.sk-estimator {font-family: monospace;background-color: #f0f8ff;border: 1px dotted black;border-radius: 0.25em;box-sizing: border-box;margin-bottom: 0.5em;}#sk-container-id-2 div.sk-estimator:hover {background-color: #d4ebff;}#sk-container-id-2 div.sk-parallel-item::after {content: \"\";width: 100%;border-bottom: 1px solid gray;flex-grow: 1;}#sk-container-id-2 div.sk-label:hover label.sk-toggleable__label {background-color: #d4ebff;}#sk-container-id-2 div.sk-serial::before {content: \"\";position: absolute;border-left: 1px solid gray;box-sizing: border-box;top: 0;bottom: 0;left: 50%;z-index: 0;}#sk-container-id-2 div.sk-serial {display: flex;flex-direction: column;align-items: center;background-color: white;padding-right: 0.2em;padding-left: 0.2em;position: relative;}#sk-container-id-2 div.sk-item {position: relative;z-index: 1;}#sk-container-id-2 div.sk-parallel {display: flex;align-items: stretch;justify-content: center;background-color: white;position: relative;}#sk-container-id-2 div.sk-item::before, #sk-container-id-2 div.sk-parallel-item::before {content: \"\";position: absolute;border-left: 1px solid gray;box-sizing: border-box;top: 0;bottom: 0;left: 50%;z-index: -1;}#sk-container-id-2 div.sk-parallel-item {display: flex;flex-direction: column;z-index: 1;position: relative;background-color: white;}#sk-container-id-2 div.sk-parallel-item:first-child::after {align-self: flex-end;width: 50%;}#sk-container-id-2 div.sk-parallel-item:last-child::after {align-self: flex-start;width: 50%;}#sk-container-id-2 div.sk-parallel-item:only-child::after {width: 0;}#sk-container-id-2 div.sk-dashed-wrapped {border: 1px dashed gray;margin: 0 0.4em 0.5em 0.4em;box-sizing: border-box;padding-bottom: 0.4em;background-color: white;}#sk-container-id-2 div.sk-label label {font-family: monospace;font-weight: bold;display: inline-block;line-height: 1.2em;}#sk-container-id-2 div.sk-label-container {text-align: center;}#sk-container-id-2 div.sk-container {/* jupyter's `normalize.less` sets `[hidden] { display: none; }` but bootstrap.min.css set `[hidden] { display: none !important; }` so we also need the `!important` here to be able to override the default hidden behavior on the sphinx rendered scikit-learn.org. See: https://github.com/scikit-learn/scikit-learn/issues/21755 */display: inline-block !important;position: relative;}#sk-container-id-2 div.sk-text-repr-fallback {display: none;}</style><div id=\"sk-container-id-2\" class=\"sk-top-container\"><div class=\"sk-text-repr-fallback\"><pre>RandomizedSearchCV(cv=10, estimator=RandomForestRegressor(), n_jobs=-1,\n",
       "                   param_distributions={&#x27;max_depth&#x27;: [1, 23, 45],\n",
       "                                        &#x27;max_features&#x27;: [&#x27;auto&#x27;, &#x27;sqrt&#x27;],\n",
       "                                        &#x27;min_samples_split&#x27;: [5, 10],\n",
       "                                        &#x27;n_estimators&#x27;: [20, 65, 110, 155,\n",
       "                                                         200]},\n",
       "                   random_state=42, scoring=&#x27;neg_mean_squared_error&#x27;,\n",
       "                   verbose=2)</pre><b>In a Jupyter environment, please rerun this cell to show the HTML representation or trust the notebook. <br />On GitHub, the HTML representation is unable to render, please try loading this page with nbviewer.org.</b></div><div class=\"sk-container\" hidden><div class=\"sk-item sk-dashed-wrapped\"><div class=\"sk-label-container\"><div class=\"sk-label sk-toggleable\"><input class=\"sk-toggleable__control sk-hidden--visually\" id=\"sk-estimator-id-8\" type=\"checkbox\" ><label for=\"sk-estimator-id-8\" class=\"sk-toggleable__label sk-toggleable__label-arrow\">RandomizedSearchCV</label><div class=\"sk-toggleable__content\"><pre>RandomizedSearchCV(cv=10, estimator=RandomForestRegressor(), n_jobs=-1,\n",
       "                   param_distributions={&#x27;max_depth&#x27;: [1, 23, 45],\n",
       "                                        &#x27;max_features&#x27;: [&#x27;auto&#x27;, &#x27;sqrt&#x27;],\n",
       "                                        &#x27;min_samples_split&#x27;: [5, 10],\n",
       "                                        &#x27;n_estimators&#x27;: [20, 65, 110, 155,\n",
       "                                                         200]},\n",
       "                   random_state=42, scoring=&#x27;neg_mean_squared_error&#x27;,\n",
       "                   verbose=2)</pre></div></div></div><div class=\"sk-parallel\"><div class=\"sk-parallel-item\"><div class=\"sk-item\"><div class=\"sk-label-container\"><div class=\"sk-label sk-toggleable\"><input class=\"sk-toggleable__control sk-hidden--visually\" id=\"sk-estimator-id-9\" type=\"checkbox\" ><label for=\"sk-estimator-id-9\" class=\"sk-toggleable__label sk-toggleable__label-arrow\">estimator: RandomForestRegressor</label><div class=\"sk-toggleable__content\"><pre>RandomForestRegressor()</pre></div></div></div><div class=\"sk-serial\"><div class=\"sk-item\"><div class=\"sk-estimator sk-toggleable\"><input class=\"sk-toggleable__control sk-hidden--visually\" id=\"sk-estimator-id-10\" type=\"checkbox\" ><label for=\"sk-estimator-id-10\" class=\"sk-toggleable__label sk-toggleable__label-arrow\">RandomForestRegressor</label><div class=\"sk-toggleable__content\"><pre>RandomForestRegressor()</pre></div></div></div></div></div></div></div></div></div></div>"
      ],
      "text/plain": [
       "RandomizedSearchCV(cv=10, estimator=RandomForestRegressor(), n_jobs=-1,\n",
       "                   param_distributions={'max_depth': [1, 23, 45],\n",
       "                                        'max_features': ['auto', 'sqrt'],\n",
       "                                        'min_samples_split': [5, 10],\n",
       "                                        'n_estimators': [20, 65, 110, 155,\n",
       "                                                         200]},\n",
       "                   random_state=42, scoring='neg_mean_squared_error',\n",
       "                   verbose=2)"
      ]
     },
     "execution_count": 53,
     "metadata": {},
     "output_type": "execute_result"
    }
   ],
   "source": [
    "rf_random = RandomizedSearchCV(estimator = forest , param_distributions = random_grid, n_iter = 10, cv = 10, verbose=2, random_state=42, n_jobs = -1, scoring='neg_mean_squared_error')\n",
    "# Fit the random search model\n",
    "rf_random.fit(X_train_rf, y_train_rf)"
   ]
  },
  {
   "cell_type": "code",
   "execution_count": 54,
   "id": "15496e4c",
   "metadata": {},
   "outputs": [
    {
     "name": "stdout",
     "output_type": "stream",
     "text": [
      "13054.531469569523 {'n_estimators': 20, 'min_samples_split': 5, 'max_features': 'auto', 'max_depth': 1}\n",
      "13050.905851062837 {'n_estimators': 20, 'min_samples_split': 10, 'max_features': 'auto', 'max_depth': 1}\n",
      "6941.064708281819 {'n_estimators': 65, 'min_samples_split': 10, 'max_features': 'sqrt', 'max_depth': 23}\n",
      "7014.294599251164 {'n_estimators': 20, 'min_samples_split': 10, 'max_features': 'auto', 'max_depth': 45}\n",
      "12775.024456393705 {'n_estimators': 155, 'min_samples_split': 5, 'max_features': 'sqrt', 'max_depth': 1}\n",
      "6637.694117063983 {'n_estimators': 200, 'min_samples_split': 5, 'max_features': 'sqrt', 'max_depth': 45}\n",
      "6717.0300373348355 {'n_estimators': 155, 'min_samples_split': 5, 'max_features': 'sqrt', 'max_depth': 23}\n",
      "6836.09600034394 {'n_estimators': 155, 'min_samples_split': 10, 'max_features': 'auto', 'max_depth': 45}\n",
      "12774.466424185011 {'n_estimators': 110, 'min_samples_split': 5, 'max_features': 'sqrt', 'max_depth': 1}\n",
      "6970.978859793135 {'n_estimators': 110, 'min_samples_split': 10, 'max_features': 'sqrt', 'max_depth': 45}\n"
     ]
    }
   ],
   "source": [
    "rs_res2 = rf_random.cv_results_\n",
    "for mean_score, params in zip(rs_res2[\"mean_test_score\"], rs_res2[\"params\"]):\n",
    "    print(np.sqrt(-mean_score), params)"
   ]
  },
  {
   "cell_type": "code",
   "execution_count": 55,
   "id": "b54f16cf",
   "metadata": {},
   "outputs": [
    {
     "data": {
      "text/html": [
       "<style>#sk-container-id-3 {color: black;background-color: white;}#sk-container-id-3 pre{padding: 0;}#sk-container-id-3 div.sk-toggleable {background-color: white;}#sk-container-id-3 label.sk-toggleable__label {cursor: pointer;display: block;width: 100%;margin-bottom: 0;padding: 0.3em;box-sizing: border-box;text-align: center;}#sk-container-id-3 label.sk-toggleable__label-arrow:before {content: \"▸\";float: left;margin-right: 0.25em;color: #696969;}#sk-container-id-3 label.sk-toggleable__label-arrow:hover:before {color: black;}#sk-container-id-3 div.sk-estimator:hover label.sk-toggleable__label-arrow:before {color: black;}#sk-container-id-3 div.sk-toggleable__content {max-height: 0;max-width: 0;overflow: hidden;text-align: left;background-color: #f0f8ff;}#sk-container-id-3 div.sk-toggleable__content pre {margin: 0.2em;color: black;border-radius: 0.25em;background-color: #f0f8ff;}#sk-container-id-3 input.sk-toggleable__control:checked~div.sk-toggleable__content {max-height: 200px;max-width: 100%;overflow: auto;}#sk-container-id-3 input.sk-toggleable__control:checked~label.sk-toggleable__label-arrow:before {content: \"▾\";}#sk-container-id-3 div.sk-estimator input.sk-toggleable__control:checked~label.sk-toggleable__label {background-color: #d4ebff;}#sk-container-id-3 div.sk-label input.sk-toggleable__control:checked~label.sk-toggleable__label {background-color: #d4ebff;}#sk-container-id-3 input.sk-hidden--visually {border: 0;clip: rect(1px 1px 1px 1px);clip: rect(1px, 1px, 1px, 1px);height: 1px;margin: -1px;overflow: hidden;padding: 0;position: absolute;width: 1px;}#sk-container-id-3 div.sk-estimator {font-family: monospace;background-color: #f0f8ff;border: 1px dotted black;border-radius: 0.25em;box-sizing: border-box;margin-bottom: 0.5em;}#sk-container-id-3 div.sk-estimator:hover {background-color: #d4ebff;}#sk-container-id-3 div.sk-parallel-item::after {content: \"\";width: 100%;border-bottom: 1px solid gray;flex-grow: 1;}#sk-container-id-3 div.sk-label:hover label.sk-toggleable__label {background-color: #d4ebff;}#sk-container-id-3 div.sk-serial::before {content: \"\";position: absolute;border-left: 1px solid gray;box-sizing: border-box;top: 0;bottom: 0;left: 50%;z-index: 0;}#sk-container-id-3 div.sk-serial {display: flex;flex-direction: column;align-items: center;background-color: white;padding-right: 0.2em;padding-left: 0.2em;position: relative;}#sk-container-id-3 div.sk-item {position: relative;z-index: 1;}#sk-container-id-3 div.sk-parallel {display: flex;align-items: stretch;justify-content: center;background-color: white;position: relative;}#sk-container-id-3 div.sk-item::before, #sk-container-id-3 div.sk-parallel-item::before {content: \"\";position: absolute;border-left: 1px solid gray;box-sizing: border-box;top: 0;bottom: 0;left: 50%;z-index: -1;}#sk-container-id-3 div.sk-parallel-item {display: flex;flex-direction: column;z-index: 1;position: relative;background-color: white;}#sk-container-id-3 div.sk-parallel-item:first-child::after {align-self: flex-end;width: 50%;}#sk-container-id-3 div.sk-parallel-item:last-child::after {align-self: flex-start;width: 50%;}#sk-container-id-3 div.sk-parallel-item:only-child::after {width: 0;}#sk-container-id-3 div.sk-dashed-wrapped {border: 1px dashed gray;margin: 0 0.4em 0.5em 0.4em;box-sizing: border-box;padding-bottom: 0.4em;background-color: white;}#sk-container-id-3 div.sk-label label {font-family: monospace;font-weight: bold;display: inline-block;line-height: 1.2em;}#sk-container-id-3 div.sk-label-container {text-align: center;}#sk-container-id-3 div.sk-container {/* jupyter's `normalize.less` sets `[hidden] { display: none; }` but bootstrap.min.css set `[hidden] { display: none !important; }` so we also need the `!important` here to be able to override the default hidden behavior on the sphinx rendered scikit-learn.org. See: https://github.com/scikit-learn/scikit-learn/issues/21755 */display: inline-block !important;position: relative;}#sk-container-id-3 div.sk-text-repr-fallback {display: none;}</style><div id=\"sk-container-id-3\" class=\"sk-top-container\"><div class=\"sk-text-repr-fallback\"><pre>RandomForestRegressor(max_depth=45, max_features=&#x27;sqrt&#x27;, min_samples_split=5,\n",
       "                      n_estimators=200)</pre><b>In a Jupyter environment, please rerun this cell to show the HTML representation or trust the notebook. <br />On GitHub, the HTML representation is unable to render, please try loading this page with nbviewer.org.</b></div><div class=\"sk-container\" hidden><div class=\"sk-item\"><div class=\"sk-estimator sk-toggleable\"><input class=\"sk-toggleable__control sk-hidden--visually\" id=\"sk-estimator-id-11\" type=\"checkbox\" checked><label for=\"sk-estimator-id-11\" class=\"sk-toggleable__label sk-toggleable__label-arrow\">RandomForestRegressor</label><div class=\"sk-toggleable__content\"><pre>RandomForestRegressor(max_depth=45, max_features=&#x27;sqrt&#x27;, min_samples_split=5,\n",
       "                      n_estimators=200)</pre></div></div></div></div></div>"
      ],
      "text/plain": [
       "RandomForestRegressor(max_depth=45, max_features='sqrt', min_samples_split=5,\n",
       "                      n_estimators=200)"
      ]
     },
     "execution_count": 55,
     "metadata": {},
     "output_type": "execute_result"
    }
   ],
   "source": [
    "rf_random.best_estimator_"
   ]
  },
  {
   "cell_type": "code",
   "execution_count": 56,
   "id": "b4667bd6",
   "metadata": {},
   "outputs": [
    {
     "name": "stdout",
     "output_type": "stream",
     "text": [
      "The best model from the randomized search has an accuracy of train model 93.77 %\n",
      "The best model from the randomized search has an accuracy of test model 88.72 %\n"
     ]
    }
   ],
   "source": [
    "random_best_train= rf_random.best_estimator_.predict(X_train_rf)\n",
    "random_best_test= rf_random.best_estimator_.predict(X_test_rf)\n",
    "errors_test = abs(random_best_test - y_test_rf)\n",
    "errors_train = abs(random_best_train - y_train_rf)\n",
    "# Calculate mean absolute percentage error (MAPE)\n",
    "mape_test = np.mean(100 * (errors_test / y_test_rf))\n",
    "mape_train = np.mean(100 * (errors_train / y_train_rf))\n",
    "# Calculate and display accuracy\n",
    "accuracy_test = 100 - mape_test \n",
    "accuracy_train = 100 - mape_train\n",
    "#print result\n",
    "print('The best model from the randomized search has an accuracy of train model', round(accuracy_train, 2),'%')\n",
    "print('The best model from the randomized search has an accuracy of test model', round(accuracy_test, 2),'%')"
   ]
  },
  {
   "cell_type": "code",
   "execution_count": 57,
   "id": "dffdcde1",
   "metadata": {},
   "outputs": [
    {
     "name": "stdout",
     "output_type": "stream",
     "text": [
      "The best model from the randomized search has a RMSE of 3556.77\n"
     ]
    }
   ],
   "source": [
    "#this is the RMSE of train data\n",
    "final_mse_train = mean_squared_error(y_train_rf, random_best_train)\n",
    "final_rmse_train = np.sqrt(final_mse_train)\n",
    "print('The best model from the randomized search has a RMSE of', round(final_rmse_train, 2))"
   ]
  },
  {
   "cell_type": "code",
   "execution_count": 58,
   "id": "62bd33d1",
   "metadata": {},
   "outputs": [
    {
     "name": "stdout",
     "output_type": "stream",
     "text": [
      "The best model from the randomized search has a RMSE of 6137.83\n"
     ]
    }
   ],
   "source": [
    "#this is the RMSE of test data\n",
    "final_mse_test = mean_squared_error(y_test_rf, random_best_test)\n",
    "final_rmse_test = np.sqrt(final_mse_test)\n",
    "print('The best model from the randomized search has a RMSE of', round(final_rmse_test, 2))"
   ]
  },
  {
   "cell_type": "markdown",
   "id": "4838a8d5",
   "metadata": {},
   "source": [
    "### All these models are overfitting for training data so  we try gradient boosting model"
   ]
  },
  {
   "cell_type": "markdown",
   "id": "cc51d8dd",
   "metadata": {},
   "source": [
    "## Gradient Boost Model"
   ]
  },
  {
   "cell_type": "code",
   "execution_count": 59,
   "id": "eaefa03d",
   "metadata": {},
   "outputs": [
    {
     "name": "stdout",
     "output_type": "stream",
     "text": [
      "Training set score: 0.9544933512567608\n",
      "Test set score: 0.9053231859616153\n"
     ]
    }
   ],
   "source": [
    "gbr_params = {'n_estimators': 1000,\n",
    "          'max_depth': 5,\n",
    "          'learning_rate': 0.1,\n",
    "          'loss': 'ls'}\n",
    "\n",
    "pipe_gb = Pipeline(steps=[\n",
    "    ('preprocessor', preprocessor),\n",
    "    ('classifier',   GradientBoostingRegressor(**gbr_params))\n",
    "])\n",
    "\n",
    "model_gb = pipe_gb.fit(X_train, y_train)\n",
    "\n",
    "y_pred_gb_train = model_gb.predict(X_train)\n",
    "y_pred_gb_test = model_gb.predict(X_test)\n",
    "\n",
    "\n",
    "print('Training set score: ' + str(model_gb.score(X_train, y_train)))\n",
    "print('Test set score: ' + str(model_gb.score(X_test, y_test)))\n",
    "# model_gb.score(X_test, y_test)"
   ]
  },
  {
   "cell_type": "code",
   "execution_count": 60,
   "id": "46a2a5c0",
   "metadata": {},
   "outputs": [
    {
     "name": "stdout",
     "output_type": "stream",
     "text": [
      "Root Mean Square Error GB Model for train data: 3454.0571125528804\n"
     ]
    }
   ],
   "source": [
    "rmse_gb_train = np.sqrt(mean_squared_error(np.exp(y_train),np.exp(y_pred_gb_train)))\n",
    "print(f'Root Mean Square Error GB Model for train data: {rmse_gb_train}')"
   ]
  },
  {
   "cell_type": "code",
   "execution_count": 61,
   "id": "50580eae",
   "metadata": {},
   "outputs": [
    {
     "name": "stdout",
     "output_type": "stream",
     "text": [
      "Root Mean Square Error GB Model for test data: 5016.159382040853\n"
     ]
    }
   ],
   "source": [
    "rmse_gb_test = np.sqrt(mean_squared_error(np.exp(y_test),np.exp(y_pred_gb_test)))\n",
    "print(f'Root Mean Square Error GB Model for test data: {rmse_gb_test}')"
   ]
  },
  {
   "cell_type": "markdown",
   "id": "033ea485",
   "metadata": {},
   "source": [
    "This model is performing better when compared to all the others so we proceed with this."
   ]
  },
  {
   "cell_type": "code",
   "execution_count": null,
   "id": "95593fda",
   "metadata": {},
   "outputs": [],
   "source": []
  },
  {
   "cell_type": "code",
   "execution_count": null,
   "id": "b35570bf",
   "metadata": {},
   "outputs": [],
   "source": []
  },
  {
   "cell_type": "code",
   "execution_count": null,
   "id": "b87fe284",
   "metadata": {},
   "outputs": [],
   "source": []
  },
  {
   "cell_type": "markdown",
   "id": "fc810184",
   "metadata": {},
   "source": [
    "## Testing"
   ]
  },
  {
   "cell_type": "code",
   "execution_count": 62,
   "id": "2b8fe6ab",
   "metadata": {},
   "outputs": [
    {
     "data": {
      "text/plain": [
       "Index(['brand', 'model', 'mileage', 'drive_type', 'fuel_type', 'accidents',\n",
       "       'owners', 'car_age'],\n",
       "      dtype='object')"
      ]
     },
     "execution_count": 62,
     "metadata": {},
     "output_type": "execute_result"
    }
   ],
   "source": [
    "X_test.columns"
   ]
  },
  {
   "cell_type": "code",
   "execution_count": 63,
   "id": "38b217ad",
   "metadata": {},
   "outputs": [],
   "source": [
    "predicted_price = pipe_gb.predict(pd.DataFrame(columns=X_test.columns,data=np.array(['Toyota','4Runner',12076,'4WD',\n",
    "                                                                'Gas',0,1,3]).reshape(1,8)))"
   ]
  },
  {
   "cell_type": "code",
   "execution_count": 64,
   "id": "7c39daa8",
   "metadata": {},
   "outputs": [
    {
     "data": {
      "text/plain": [
       "array([10.70408949])"
      ]
     },
     "execution_count": 64,
     "metadata": {},
     "output_type": "execute_result"
    }
   ],
   "source": [
    "predicted_price"
   ]
  },
  {
   "cell_type": "code",
   "execution_count": 65,
   "id": "21286919",
   "metadata": {},
   "outputs": [
    {
     "name": "stdout",
     "output_type": "stream",
     "text": [
      "The predicted car value for the test data taken: $[44537]\n"
     ]
    }
   ],
   "source": [
    "print(f'The predicted car value for the test data taken: ${np.exp(predicted_price).astype(int)}')"
   ]
  },
  {
   "cell_type": "code",
   "execution_count": 66,
   "id": "7ddc56dd",
   "metadata": {},
   "outputs": [
    {
     "name": "stdout",
     "output_type": "stream",
     "text": [
      "Requirement already satisfied: pickle-mixin in /Users/jaswanthsai/opt/anaconda3/lib/python3.8/site-packages (1.0.2)\r\n"
     ]
    }
   ],
   "source": [
    "!pip install pickle-mixin"
   ]
  },
  {
   "cell_type": "code",
   "execution_count": 67,
   "id": "10a589e1",
   "metadata": {},
   "outputs": [],
   "source": [
    "import pickle"
   ]
  },
  {
   "cell_type": "code",
   "execution_count": 68,
   "id": "0a0eb68d",
   "metadata": {},
   "outputs": [],
   "source": [
    "pickle.dump(pipe_gb,open('Final Gradient Boost Model.pkl','wb'))"
   ]
  },
  {
   "cell_type": "code",
   "execution_count": 69,
   "id": "24d09bda",
   "metadata": {},
   "outputs": [],
   "source": [
    "pickle.dump(df,open('df.pkl','wb'))"
   ]
  },
  {
   "cell_type": "code",
   "execution_count": null,
   "id": "2375564c",
   "metadata": {},
   "outputs": [],
   "source": []
  }
 ],
 "metadata": {
  "kernelspec": {
   "display_name": "Python 3",
   "language": "python",
   "name": "python3"
  },
  "language_info": {
   "codemirror_mode": {
    "name": "ipython",
    "version": 3
   },
   "file_extension": ".py",
   "mimetype": "text/x-python",
   "name": "python",
   "nbconvert_exporter": "python",
   "pygments_lexer": "ipython3",
   "version": "3.8.8"
  }
 },
 "nbformat": 4,
 "nbformat_minor": 5
}
